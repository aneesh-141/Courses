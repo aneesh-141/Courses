{
 "cells": [
  {
   "cell_type": "code",
   "execution_count": null,
   "metadata": {},
   "outputs": [],
   "source": [
    "fname = input(\"Enter file name: \")\n",
    "fh = open(fname)\n",
    "lst = list()\n",
    "for line in fh:\n",
    "    line = line.rstrip()\n",
    "    line = line.split()\n",
    "    for i in line:\n",
    "        if i not in lst:\n",
    "            lst.append(i)\n",
    "            \n",
    "lst.sort() \n",
    "print(lst)"
   ]
  }
 ],
 "metadata": {
  "language_info": {
   "name": "python"
  },
  "orig_nbformat": 4
 },
 "nbformat": 4,
 "nbformat_minor": 2
}
