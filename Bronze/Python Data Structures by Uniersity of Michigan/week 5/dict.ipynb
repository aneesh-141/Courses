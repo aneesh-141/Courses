{
 "cells": [
  {
   "cell_type": "markdown",
   "metadata": {},
   "source": [
    "9.4 Write a program to read through the mbox-short.txt and figure out who has sent the greatest number of mail messages. The program looks for 'From ' lines and takes the second word of those lines as the person who sent the mail. The program creates a Python dictionary that maps the sender's mail address to a count of the number of times they appear in the file. After the dictionary is produced, the program reads through the dictionary using a maximum loop to find the most prolific committer."
   ]
  },
  {
   "cell_type": "code",
   "execution_count": null,
   "metadata": {},
   "outputs": [],
   "source": [
    "# name = input(\"Enter file:\")\n",
    "# if len(name) < 1 : name = \"mbox-short.txt\"\n",
    "\n",
    "name = \"mbox-short.txt\"\n",
    "text = open(name)\n",
    "maxauthor = dict()\n",
    "\n",
    "for line in text:\n",
    "    line.rstrip()\n",
    "    if not line.startswith(\"From \"): continue\n",
    "    words = line.split()\n",
    "    maxauthor[words[1]] = maxauthor.get(words[1],0)+1\n",
    "\n",
    "largest = None\n",
    "largest_author = None\n",
    "\n",
    "for key in maxauthor:\n",
    "    if largest is None: largest = maxauthor[key]\n",
    "\n",
    "    if largest < maxauthor[key]:\n",
    "        largest = maxauthor[key]\n",
    "        largest_author = key\n",
    "\n",
    "print(largest_author, largest)\n"
   ]
  }
 ],
 "metadata": {
  "language_info": {
   "name": "python"
  },
  "orig_nbformat": 4
 },
 "nbformat": 4,
 "nbformat_minor": 2
}
