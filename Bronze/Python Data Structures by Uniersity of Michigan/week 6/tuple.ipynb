{
 "cells": [
  {
   "cell_type": "markdown",
   "metadata": {},
   "source": [
    "10.2 Write a program to read through the mbox-short.txt and\n",
    "figure out the distribution by hour of the day for each of the messages.\n",
    "You can pull the hour out from the 'From ' line by finding the time\n",
    "and then splitting the string a second time using a colon.\n",
    "From stephen.marquard@uct.ac.za Sat Jan  5 09:14:16 2008\n",
    "Once you have accumulated the counts for each hour, print out the counts,\n",
    "sorted by hour as shown below. Note that the autograder\n",
    "does not have support for the sorted() function.\n",
    "\"\"\""
   ]
  },
  {
   "cell_type": "code",
   "execution_count": null,
   "metadata": {},
   "outputs": [],
   "source": [
    "name = raw_input(\"Enter file:\")\n",
    "if len(name) < 1 : name = \"mbox-short.txt\"\n",
    "handle = open(name)\n",
    "d=dict()\n",
    "for line in handle:\n",
    "    if not line.startswith(\"From \"): \n",
    "        continue\n",
    "    else:    \n",
    "        line=line.split()\n",
    "        line=line[5]\n",
    "        line=line[0:2]\n",
    "        d[line]=d.get(line,0)+1\n",
    "\n",
    "lst=list()        \n",
    "for value,count in d.items():\n",
    "    lst.append((value,count))\n",
    "\n",
    "lst.sort()\n",
    "for value,count in lst:\n",
    "    print (value,count)"
   ]
  }
 ],
 "metadata": {
  "language_info": {
   "name": "python"
  },
  "orig_nbformat": 4
 },
 "nbformat": 4,
 "nbformat_minor": 2
}
